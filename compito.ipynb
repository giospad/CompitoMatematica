{
 "cells": [
  {
   "cell_type": "markdown",
   "metadata": {},
   "source": [
    "# Compito di matematica\n",
    "## usi Shift+Enter per andare avanti\n",
    "\n",
    "la funzione di esempio è $f(x)=\\frac{x^2-4}{kx-4}$\n"
   ]
  },
  {
   "cell_type": "code",
   "execution_count": 1,
   "metadata": {},
   "outputs": [
    {
     "name": "stdout",
     "output_type": "stream",
     "text": [
      "scrivi il valore di k: 0\n"
     ]
    }
   ],
   "source": [
    "k= float(input(\"scrivi il valore di k: \"))"
   ]
  },
  {
   "cell_type": "code",
   "execution_count": 2,
   "metadata": {},
   "outputs": [
    {
     "ename": "ZeroDivisionError",
     "evalue": "float division by zero",
     "output_type": "error",
     "traceback": [
      "\u001b[0;31m---------------------------------------------------------------------------\u001b[0m",
      "\u001b[0;31mZeroDivisionError\u001b[0m                         Traceback (most recent call last)",
      "\u001b[0;32m<ipython-input-2-9b939565c811>\u001b[0m in \u001b[0;36m<module>\u001b[0;34m\u001b[0m\n\u001b[0;32m----> 1\u001b[0;31m \u001b[0md\u001b[0m\u001b[0;34m=\u001b[0m\u001b[0;36m4\u001b[0m\u001b[0;34m/\u001b[0m\u001b[0mk\u001b[0m\u001b[0;34m\u001b[0m\u001b[0;34m\u001b[0m\u001b[0m\n\u001b[0m\u001b[1;32m      2\u001b[0m \u001b[0mprint\u001b[0m\u001b[0;34m(\u001b[0m\u001b[0;34m\" il dominio è R diverso da \"\u001b[0m\u001b[0;34m+\u001b[0m\u001b[0mstr\u001b[0m\u001b[0;34m(\u001b[0m\u001b[0md\u001b[0m\u001b[0;34m)\u001b[0m\u001b[0;34m)\u001b[0m\u001b[0;34m\u001b[0m\u001b[0;34m\u001b[0m\u001b[0m\n",
      "\u001b[0;31mZeroDivisionError\u001b[0m: float division by zero"
     ]
    }
   ],
   "source": [
    "if k==0:\n",
    "    print(\"il dominio è R\")\n",
    "else :\n",
    "    d=4/k\n",
    "    print(\" il dominio è R diverso da \"+str(d))"
   ]
  },
  {
   "cell_type": "markdown",
   "metadata": {},
   "source": [
    "i punti di intesezione con l'asse delle x sono 2 e -2\n",
    "il punto di intersezione con l'asse delle y è 1\n"
   ]
  },
  {
   "cell_type": "code",
   "execution_count": 4,
   "metadata": {},
   "outputs": [],
   "source": [
    "m=0\n",
    "q=0\n",
    "if k!=0:\n",
    "    print(\"asintoto vericale x=\"+str(d))\n",
    "    m=1/k\n",
    "    q=4/k**2\n",
    "    print(\"asintoto obliquo y=\"+str(m)+\"x\"+( \"+\" if q>=0 else \"\")+str(q))"
   ]
  },
  {
   "cell_type": "code",
   "execution_count": 7,
   "metadata": {},
   "outputs": [
    {
     "name": "stdout",
     "output_type": "stream",
     "text": [
      "MAX :0\n"
     ]
    }
   ],
   "source": [
    "import math\n",
    "da=k\n",
    "if da ==0:\n",
    "    print(\"MAX :0\")\n",
    "else:\n",
    "    db=-8\n",
    "    dc=4*k\n",
    "    delta=(db**2)-(4*da*dc)\n",
    "    print(delta)\n",
    "    if delta>0:\n",
    "        r1=(-db-math.sqrt(delta))/(2*da)\n",
    "        r2=(-db+math.sqrt(delta))/(2*da)\n",
    "        print(\"MAX \"+str(r1))\n",
    "        print(\"MIN \"+str(r2))\n",
    "    elif delta==0:\n",
    "        r=-db/2*da\n",
    "        print(str(r))"
   ]
  },
  {
   "cell_type": "code",
   "execution_count": 8,
   "metadata": {},
   "outputs": [
    {
     "data": {
      "image/png": "[encoded data removed]",
      "text/plain": [
       "<Figure size 432x288 with 1 Axes>"
      ]
     },
     "metadata": {
      "needs_background": "light"
     },
     "output_type": "display_data"
    }
   ],
   "source": [
    "import matplotlib.pyplot as plt\n",
    "import numpy as np\n",
    "x = np.linspace(-5,10,100)\n",
    "#y funzione\n",
    "yf = (x**2-4)/(k*x-4)\n",
    "#y asintoto\n",
    "ya= m*x+q\n",
    "ax = plt.gca()\n",
    "ax.spines['top'].set_color('none')\n",
    "ax.spines['bottom'].set_position('zero')\n",
    "ax.spines['left'].set_position('zero')\n",
    "ax.spines['right'].set_color('none')\n",
    "plt.plot(x,yf,'b')\n",
    "plt.plot(x,ya,'r')\n",
    "plt.show()"
   ]
  },
  {
   "cell_type": "code",
   "execution_count": null,
   "metadata": {},
   "outputs": [],
   "source": []
  }
 ],
 "metadata": {
  "kernelspec": {
   "display_name": "Python 3",
   "language": "python",
   "name": "python3"
  },
  "language_info": {
   "codemirror_mode": {
    "name": "ipython",
    "version": 3
   },
   "file_extension": ".py",
   "mimetype": "text/x-python",
   "name": "python",
   "nbconvert_exporter": "python",
   "pygments_lexer": "ipython3",
   "version": "3.6.10"
  }
 },
 "nbformat": 4,
 "nbformat_minor": 4
}
